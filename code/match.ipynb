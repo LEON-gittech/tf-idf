{
 "cells": [
  {
   "cell_type": "code",
   "execution_count": 9,
   "metadata": {},
   "outputs": [],
   "source": [
    "# !hdfs dfs -get hdfs://harunava/user/leon.kepler/clm/data.json ./data.json"
   ]
  },
  {
   "cell_type": "code",
   "execution_count": 1,
   "metadata": {},
   "outputs": [],
   "source": [
    "import json\n",
    "with open(\"data.json\",\"r\") as f:\n",
    "    data = json.load(f)"
   ]
  },
  {
   "cell_type": "code",
   "execution_count": 2,
   "metadata": {},
   "outputs": [],
   "source": [
    "def format_record(record):\n",
    "    return f\"claim: {record['claim']}, notes: {record['notes']}\"\n",
    "   \n",
    "str_data = [format_record(record) for record in data]"
   ]
  },
  {
   "cell_type": "code",
   "execution_count": 3,
   "metadata": {},
   "outputs": [
    {
     "name": "stdout",
     "output_type": "stream",
     "text": [
      "claim: , notes: This is a satire. It may be offensive through linking china to covid, but it is not misinformation as it is humour. \n",
      "claim: , notes: The video describes the Alcea rugosa water extract preparation for the treatment of stomach ulcer (collect petals, cover with cold water, leave it overnight) as well as the treatment instructions (take one tablespoon before food for 10-15 days). \n",
      "Traditional herbal medicine can not treat stomach ulcers since it is a severe health problem requiring drug treatment (antibiotics in case ulcers were caused by the infection with bacteria Helicobacter pylori).\n",
      "\n",
      "claim: , notes: DESCRIPTION: the claim, made by candace owens, is that because black Americans commit more crime, that is why they are killed by the police. Her methodology is flawed.  “These quantities can differ enormously: When officers encounter many more white civilians (due to whites’ majority status, for example), the proportion of killings involving black civilians can be small, even if encounters with black civilians are more likely to end in shootings.” “Black women and men and American Indian and Alaska Native women and men are significantly more likely than white women and men to be killed by police. “\n",
      "Misinformation \n",
      "claim: , notes: This video is not misinformation as it is an opinion on current events.  The Tik Tok expresses an opinion on this news article about the online grooming of children by a casual school teacher. \n",
      " \n",
      "claim: , notes: Disposable masks harm the environment \n",
      "claim: , notes: DESCRIPTION: not English n/a\n",
      "claim: , notes: Hydrocephalus is a real medical condition caused by a build up fluid within the brain. There have been cases of children suffering with the condition, which can be fatal if not treated.  \n",
      "claim: , notes: The claim is that the Story County auditor explained how 729 voters sent their ballots to the wrong location.  What happened in Ames, Iowa, is that 729 voters got the wrong ballot. This story broke in October 2020, before Election Day.  They did not send their ballots to the wrong location.  Misinformation, factually inaccurate.  \n",
      "claim: , notes: The video includes footage of Larry Sinclair saying he did drugs with and performed oral sex on Barack Obama. Sinclair is known for being less than reliable, and he was represented at his press conference about Obama by an attorney whose law license had been suspended. After his press conference, Sinclair was arrested on charges of theft and forgery.  Ruling: misinfo, N/A \n",
      "claim: , notes: Video is in another language; not enough information to assess potential claims.\n"
     ]
    }
   ],
   "source": [
    "for i in range(10):\n",
    "    print(str_data[i])"
   ]
  },
  {
   "cell_type": "code",
   "execution_count": 11,
   "metadata": {},
   "outputs": [],
   "source": [
    "import os\n",
    "os.environ[\"CUDA_VISIBLE_DEVICES\"]='1'"
   ]
  },
  {
   "cell_type": "code",
   "execution_count": 12,
   "metadata": {},
   "outputs": [],
   "source": [
    "import cudf\n",
    "from cudf import Series\n",
    "from cudf import DataFrame\n",
    "\n",
    "from cuml.feature_extraction.text import TfidfVectorizer"
   ]
  },
  {
   "cell_type": "code",
   "execution_count": 13,
   "metadata": {},
   "outputs": [],
   "source": [
    "import numpy as np\n",
    "import pandas as pd\n",
    "import warnings\n",
    "\n",
    "\n",
    "pd.set_option('display.max_colwidth', 1000000)\n",
    "warnings.filterwarnings('ignore')"
   ]
  },
  {
   "cell_type": "code",
   "execution_count": 17,
   "metadata": {},
   "outputs": [],
   "source": [
    "def join_df(path, df_lib=cudf):\n",
    "    data = df_lib.DataFrame()\n",
    "    temp = df_lib.read_csv(path)\n",
    "    # temp = temp[temp.lang=='en']\n",
    "    data = df_lib.concat([data,temp])\n",
    "    # for file in os.listdir(path):\n",
    "    #     print(f\"In path : {path}{file}\")\n",
    "    #     temp = df_lib.read_csv(path+file)\n",
    "    #     temp = temp[temp.lang=='en']\n",
    "    #     data = df_lib.concat([data,temp])\n",
    "    return data"
   ]
  },
  {
   "cell_type": "code",
   "execution_count": 18,
   "metadata": {},
   "outputs": [
    {
     "data": {
      "text/plain": [
       "176722"
      ]
     },
     "execution_count": 18,
     "metadata": {},
     "output_type": "execute_result"
    }
   ],
   "source": [
    "df = join_df('/opt/tiger/workspace/LLM/data.csv')\n",
    "tweets = Series(df['text'])\n",
    "len(tweets)"
   ]
  },
  {
   "cell_type": "code",
   "execution_count": 19,
   "metadata": {},
   "outputs": [
    {
     "data": {
      "text/plain": [
       "(176722, 288685)"
      ]
     },
     "execution_count": 19,
     "metadata": {},
     "output_type": "execute_result"
    }
   ],
   "source": [
    "vec = TfidfVectorizer(stop_words='english')\n",
    "\n",
    "tfidf_matrix = vec.fit_transform(tweets)\n",
    "tfidf_matrix.shape"
   ]
  },
  {
   "cell_type": "code",
   "execution_count": 23,
   "metadata": {},
   "outputs": [],
   "source": [
    "from cuml.common.sparsefuncs import csr_row_normalize_l2\n",
    "\n",
    "\n",
    "def efficient_csr_cosine_similarity(query, tfidf_matrix, matrix_normalized=False):\n",
    "    query = csr_row_normalize_l2(query, inplace=False)\n",
    "    if not matrix_normalized:\n",
    "        tfidf_matrix = csr_row_normalize_l2(tfidf_matrix, inplace=False)\n",
    "    \n",
    "    return tfidf_matrix.dot(query.T)\n",
    "\n",
    "\n",
    "def document_search(text_df, query, vectorizer, tfidf_matrix, top_n=10):\n",
    "    query_vec = vectorizer.transform(Series([query]))\n",
    "    similarities = efficient_csr_cosine_similarity(query_vec, tfidf_matrix, matrix_normalized=True)\n",
    "    similarities = similarities.todense().reshape(-1)\n",
    "    best_idx = similarities.argsort()[-top_n:][::-1]\n",
    "    \n",
    "    pp = cudf.DataFrame({\n",
    "        'text': text_df['text'].iloc[best_idx],\n",
    "        'similarity': similarities[best_idx]\n",
    "    })\n",
    "    return pp"
   ]
  },
  {
   "cell_type": "code",
   "execution_count": 31,
   "metadata": {},
   "outputs": [
    {
     "data": {
      "text/html": [
       "<div>\n",
       "<style scoped>\n",
       "    .dataframe tbody tr th:only-of-type {\n",
       "        vertical-align: middle;\n",
       "    }\n",
       "\n",
       "    .dataframe tbody tr th {\n",
       "        vertical-align: top;\n",
       "    }\n",
       "\n",
       "    .dataframe thead th {\n",
       "        text-align: right;\n",
       "    }\n",
       "</style>\n",
       "<table border=\"1\" class=\"dataframe\">\n",
       "  <thead>\n",
       "    <tr style=\"text-align: right;\">\n",
       "      <th></th>\n",
       "      <th>text</th>\n",
       "      <th>similarity</th>\n",
       "    </tr>\n",
       "  </thead>\n",
       "  <tbody>\n",
       "    <tr>\n",
       "      <th>106515</th>\n",
       "      <td>claim: The video claims that a certain  healthy diet can prevent from cancer. The diet must depend on vegetables and fruits.\\nIt stresses the importance of eating beetroot and its juice  which has many  benefits. Mixing vegetables and drinking their juice helps a, notes: يكتسب الشمندر لونه الرائع من أحد أنواع مضادات الأكسدة (Antioxidants) الهامة المتواجدة فيه والمدعوة بالبيتالينات، وهذا النوع من مضادات الأكسدة بشكل خاص قد يحمي الجسم من بعض أنواع الخلايا السرطانية. كما يعتقد الباحثون أن البيتالينات تعمل على الكشف في داخل الجسم عن كافة الخلايا غير المستقرة أو السرطانية لتدمرها. السرطان هو ثاني سبب رئيسي للوفاة في الولايات المتحدة، لكن التقديرات تشير إلى أنه يمكن الوقاية مما يصل إلى ثلث الحالات عن طريق اتباع نظام غذائي والتغذية وحدها. ما هي الوصفة؟ يوصي العديد من الخبراء بالأكل من خيرات الأرض. تشير عقود من البحث إلى أن أفضل نظام غذائي للوقاية من السرطان هو كل ما يتضمن النباتات. وهذا يعني الكثير من الفواكه والخضراوات والبقوليات، أو القليل من اللحوم أو غيرها من المنتجات الحيوانية.\\nقول اختصاصي النُّظم الغذائية في برنامج Mayo Clinic للحياة الصحية أنجي مراد، اختصاصية تغذية مسجلة ومرخصة: إنه على الرغم من أن الدراسات الجديدة قد احتلت العناوين الرئيسية، فإن الجزء الأكبر من البحث لا يزال يدعم تناول كميات أقل من اللحوم. وتقول: \"هناك الكثير من الأدلة للتحرك نحو نظام غذائي نباتي\".\\n</td>\n",
       "      <td>0.255338</td>\n",
       "    </tr>\n",
       "    <tr>\n",
       "      <th>109396</th>\n",
       "      <td>claim: Claim:  the video says that Henry Kissinger has called for an end to Russia-Ukraine war to prevent a Russian-Chinese alliance as the world will be preoccupied with a Middle East upcoming war between Iran and Israel which will also involve Saudi Arabia , E, notes: ما جاء في  نقل الرجل لتوقعات وزير الخارجية الامريكي \\n   السابق هنري كيسنجر في لقاء اجرته معه صحيفة الصنداي تايم حيث اكد ان حرب بين اسرائيل وايران قادمة ولكن كيسنجر لم يحدد اين ستقع هذه الحرب  هل ستكون على الارض اللبنانية ام السورية ام الايرانية\\nالخبر صحيح وقد ترجم المتحدث في الفيدبو نعض مقاطع من اللقاء الصحفي.</td>\n",
       "      <td>0.245030</td>\n",
       "    </tr>\n",
       "    <tr>\n",
       "      <th>113445</th>\n",
       "      <td>claim: Claim: The video claims that there are food supplements that are natural and healthy, and cures the body from illnesses. Such as Spirulina and Reishi Mushrooms, and DXN supplements which are very important for health., notes: \\nعلى الرغم من فوائد الفطر الريشي إلا أنه ذو أضرار خاصةً على الفئات الآتية:\\nالأفراد الذين يعانون من انخفاض ضغط الدم.\\nالأشخاص الذين يتناولون الأدوية من أجل العلاج من ارتفاع ضغط الدم، أو السكري، أو اضطرابات الجهاز المناعي.\\nكما أن استهلاكه لمدة تزيد عن ستة شهور قد تسبب رد فعل تحسسيّ لدى بعض الأشخاص، وينتج عن ذلك مجموعة من الأعراض من أبرزها ما يأتي:\\nجفاف في الفم والحلق و ممرات الأنف.\\nالشعور بالدوخة.\\nالمعاناة من الحكّة.\\nالإصابة بالطفح الجلديّ.\\nاما سبيرولينا فهي:\\nالسبيرولينا هي نوع من أنواع الطحالب لونها أخضر مائل للزرقة، وتنمو في المحيطات والبحيرات المالحة في المناخات شبه الاستوائية.\\nتعد السبيرولينا من الأغذية الخارقة بسبب غناها بالأصباغ النباتية، وقدرتها العالية على تنظيم عملية التمثيل الضوئي، ما جعلها أحد المكونات المشهورة في المكملات الغذائية.\\n \\nفيما يتعلق بالمكملات الغذائية من دكسن هناك تحذير من مؤسسة الغذاء والدواء الاردنية الرسمية بهذا الخصوص.\\n</td>\n",
       "      <td>0.239793</td>\n",
       "    </tr>\n",
       "    <tr>\n",
       "      <th>113496</th>\n",
       "      <td>claim: Claim: The video claims that Iron mixed with vitamin c and some herbs has a strong effect on the body. It provides  the body with the necessary health supplements., notes: \\nيُعدّ فيتامين ج: Vitamin C) أ\\nمن الفيتامينات الذائبة في الماء، ويعمل في الجسم كمُضادّ للأكسدة؛ حيث يحمي من الأضرار الناتجة عن الجُذور الحُرّة -وهي مُركّباتٌ تنتج عندما يتعرّض الجسم للإشعاعات أو دخان التبغ- وقد تُرتبط بزيادة خطر الإصابة بالعديد من الأمراض، ويحتاج الجسم هذا الفيتامين لصناعة الكولاجين، وغيرها من الفوائد، ومن الجدير بالذكر أنّ الجسم لا يُصنّع هذا الفيتامين، ولذلك فإنّه يحتاج لتناوله من مصادره الغذائيّة، فهو يتوفر في العديد من الخضار والفاكهة، أو يمكن تناوله كمكمل غذائي  على شكل حبوبٍ قابلة للمضغ أو كبسولات.0 seconds of 0 secondsVolume 0%   أما الحديد فهو من المعادن الموجودة في الجسم والتي يحتاجها للقيام بالعديد من الوظائف، فهو من مكونات الهيموغلوبين الذي يُساهم في نقل الأكسجين من الرئتين إلى باقي أجزاء الجسم، وقد ينجم عن عدم تناول كميات كافية من مصادر الحديد الإصابة بالأنيميا؛\\n</td>\n",
       "      <td>0.230646</td>\n",
       "    </tr>\n",
       "    <tr>\n",
       "      <th>106030</th>\n",
       "      <td>claim: The video claims and promotes a face cream which contains natural and herbal ingredients that can whiten the face  and remove  black spots and treat Melasma.\\n, notes: \\nالكريم الذي يوصفه الفيديو ليس بالضرورة يعطي نتائج متوقعة لكنه غير ضار كونه مكون من أعشاب ومواد طبيعية .\\nالمواقع الطبية تنصح باستشارة الطبيب . علاج الكلف طبيا من طرق العلاج التي تلجأ إليها الكثير من النساء وتفضلها على العديد من العديد من الطرق الطبيعية الأخرى.\\nوذلك نظرا لأن الطرق الطبية في الغالب تؤتي نتائج أسرع بكثير من الطرق الطبيعية، وهناك العديد من الطرق الطبية التي يقوم\\nالأطباء باستخدامها للتخلص من الكلف\\nومن أنواع الغسول التي يمكنك الاعتماد عليها غسول الهيدروكينون والذي يتم تطبيقه على البقع الداكنة في البشرة بصورة مباشرة\\nويمتلك قدرة كبيرة على تفتيح البشرة والتخلص من الكلف بصورة نهائية.\\nكما يقوم الطبيب بوصف مجموعة من الكريمات التي تحتوي على الستيرويدات القشرية و التريتينوين\\nوالتي تعمل على التخلص من جميع البقع الموجودة في البشرة بصورة نهائية، ويعمل على إكساب البشرة لون موحد.</td>\n",
       "      <td>0.218455</td>\n",
       "    </tr>\n",
       "    <tr>\n",
       "      <th>105500</th>\n",
       "      <td>claim: The video claims and promotes a face cream which contains natural and herbal ingredients that can whiten the face  and remove  black spots and treats Melasma., notes: الكريم الذي يوصفه الفيديو ليس بالضرورة يعطي نتائج متوقعة لكنه غير ضار كونه مكون من اعشاب ومواد طبيعية .\\nالمواقع الطبية تنصح باستشارة الطبيب .\\nعلاج الكلف طبيا من طرق العلاج التي تلجأ إليها الكثير من النساء وتفضلها على العديد من العديد من الطرق الطبيعية الأخرى.\\nوذلك نظرا لأن الطرق الطبية في الغالب تؤتي نتائج أسرع بكثير من الطرق الطبيعية، وهناك العديد من الطرق الطبية التي يقوم\\nالأطباء باستخدامها للتخلص من الكلف\\nومن أنواع الغسول التي يمكنك الاعتماد عليها غسول الهيدروكينون والذي يتم تطبيقه على البقع الداكنة في البشرة بصورة مباشرة\\nويمتلك قدرة كبيرة على تفتيح البشرة والتخلص من الكلف بصورة نهائية.\\nكما يقوم الطبيب بوصف مجموعة من الكريمات التي تحتوي على الستيرويدات القشرية و التريتينوين\\nوالتي تعمل على التخلص من جميع البقع الموجودة في البشرة بصورة نهائية، ويعمل على إكساب البشرة لون موحد.\\n</td>\n",
       "      <td>0.218397</td>\n",
       "    </tr>\n",
       "    <tr>\n",
       "      <th>56387</th>\n",
       "      <td>claim: , notes: Findings in English\\n-------------------------------------\\nThe video is true.\\nThe video is a matter of opinion.\\nIt is also Satire and Humor. According to Pew Research Center, Only about 2% of the global population lives in polygamous households, and in the vast majority of countries, that share is under 0.5%. Polygamy is banned throughout much of the world, and the United Nations Human Rights Committee, which has said that “polygamy violates the dignity of women,” called for it to “be definitely abolished wherever it continues to exist.” But there often are limits to government administration of marriages. In many countries, marriages are governed by religious or customary law, which means that oversight is in the hands of clerics or community leaders. Determination\\n---------------------------\\nNot Misinformation\\nIt is Opinion.Satire and Humor.\\n-----------------------------------\\nFindings in Arabic\\n-------------------------------------\\nالفيديو ممكن ان يكون صحيحا وهو مجرد راي  وهو ايضا للسخرية والتهكم . الجمع بين عدة نساء هي حالة نادرة تكون فقط في المجتمعات الضيقة الفقيرة  الضعيفة.\\nبحسب موقع اسلام ويب من عَلامَاتِ قِيَامِ السَّاعَةِ التي تَحَدَّثَ عَنْهَا سَيِّدُنَا رَسُولُ اللهِ صَلَّى اللهُ عَلَيهِ وعَلَى آلِهِ وصَحْبِهِ وسَلَّمَ، ذَهَابُ الرِّجَالِ، وَكَثْرَةُ النِّسَاءِ، بِحَيْثُ يَكُونُ لِكُلِّ خَمْسِينَ امْرَأَةً قَيِّمٌ وَاحِدٌ.</td>\n",
       "      <td>0.211028</td>\n",
       "    </tr>\n",
       "    <tr>\n",
       "      <th>123936</th>\n",
       "      <td>claim: \"Turnip is one of the most popular root vegetables with high nutritional value and rich in vitamins, minerals and powerful antioxidants. Turnip helps reduce urine retention.\", notes: \"الفيديو صحيح لأن اللفت له فوائد جمة للصحة .Not Misinformation\\n يساعد اللفت على التقليل من احتباس البول؛ \\n\\nكونه يحفّز سوائل المعدة. - يساعد على تنقية الجسم من السموم؛ ما يساعد على التخلص من الوزن الزائد والتقليل من الشعور بالجوع. - اللفت له دور في تعزيز عملية الأيض والتمثيل الغذائي بالجسم؛ ما يزيد من حرق السعرات الحرارية الزائدة، وهذا يزيد من النحافة وإنقاص الوزن الزائد\\nبالنسبة للناس الذين لديهم مشاكل في الغدة الدرقية المواقع العلمية تنصح بعدم تناول اللفت .\\n\\nاللفت ، تحتل هذه الخضروات الجذرية ذات اللون الأبيض مكانة ثابتة في كل مطبخ تقريبًا خلال هذا الوقت من العام ،تأتي هذه الخضروات محملة بالعديد من العناصر الغذائية الدقيقة الأساسية، واللفت غنى بالفيتامينات A و B و C و E و K والكالسيوم والحديد والصوديوم والبوتاسيوم وغيرها التي تساعد على تغذيتنا من الداخل خلال فصل الشتاء، وفقا لما نشره موقع \\\"food-ndtv\\\".\\nاللفت يقلل من مخاطر الإصابة بالسرطان وهو مفيد للعينين يحمي صحة العين ويخفض ضغط الدم ويقلل من مشاكل الأمعاء \\nكان معروفا لدى الرومان والاوروبيين  قبل 4000 الف سنة ونقله الاوروبيون الى امريكا . وكان يعطى طعاما للفقراء لكونه يحتوي على معظم الاحتياجات الغذائية .\\n\"</td>\n",
       "      <td>0.207513</td>\n",
       "    </tr>\n",
       "    <tr>\n",
       "      <th>110092</th>\n",
       "      <td>claim: Claim: \\nClaim:  Who are the masonic movement, and what kind of relation binds them with Saddam Hussein and Muqtada Al--Sadr of Iraq. The video demonstrates political regimes that have been destroyed and disappeared, according to the Freemasonry orders and, notes: صدام حسين أول من تنبأ لخطرها وأول من حاربها إيران الخطر القادم من الشرق\\nيذكر أنه بحسب المادة 201 من قانون العقوبات العراقي يُعاقب بالإعدام كل من روج لـ\"مبادئ الصهيونية، بما في ذلك الماسونية، أو انتسب إلى أي من مؤسساتها، أو ساعدها ماديا أو أدبيا، أو عمل بأي كيفية كانت لتحقيق أغراضها\".\\nولا يقيم العراق أي علاقات مع إسرائيل، في وقت ترفض الحكومة وأغلبية القوى السياسية في البلاد التطبيع معها.\\nوأكد الصدر في تغريدة عبر حسابه الرسمي على \"تويتر\" أن أحد الأسباب الرئيسة التي دعته بزج \"التيار الصدري\" في العملية الانتخابية مرة أخرى، هي مسألة التطبيع والمطامع الإسرائيلية للهيمنة على العراق. بعد العام 2003 والاحداث التي عقبت سقوط الصنم . اصبح العراق ارضا خصبة للعديد من الاجندات والحركات العالمية وفي مقدمتها الماسونية . فصار رجالها يمارسون مهامهم دون خوف او رقابة فتسنموا المناصب والوزارات وحكموا وعاثوا بالارض فسادا , ليكملوا مهمة افراغ البلد من كل محتوياته وثرواته الفكرية والعلمية والمالية . بالاضافة لما قامت به وحدات عسكرية من قوات المارينز والتي تعمل بأمرة الماسونية وتنفذ مخططاتها , وهي وحدات قتالية جميع عناصرها من اليهود تركزت اعمالهم في مناطق الفرات الاوسط وتحديدا في منطقة الكفل حيث تمكنوا من نقل اثار مقدسة لليهود . \\n</td>\n",
       "      <td>0.204488</td>\n",
       "    </tr>\n",
       "    <tr>\n",
       "      <th>110090</th>\n",
       "      <td>claim: Claim:  Who are the masonic movement, and what kind of relation that bind them with Saddam Hussein and Muqtada Al--Sadr of Iraq. The video demonstrates some political incidents and regimes that have been disappeared worldwide,  according to masonic orders, notes: صدام حسين أول من تنبأ لخطرها وأول من حاربها إيران الخطر القادم من الشرق\\nيذكر أنه بحسب المادة 201 من قانون العقوبات العراقي يُعاقب بالإعدام كل من روج لـ\"مبادئ الصهيونية، بما في ذلك الماسونية، أو انتسب إلى أي من مؤسساتها، أو ساعدها ماديا أو أدبيا، أو عمل بأي كيفية كانت لتحقيق أغراضها\".\\nولا يقيم العراق أي علاقات مع إسرائيل، في وقت ترفض الحكومة وأغلبية القوى السياسية في البلاد التطبيع معها.\\nوأكد الصدر في تغريدة عبر حسابه الرسمي على \"تويتر\" أن أحد الأسباب الرئيسة التي دعته بزج \"التيار الصدري\" في العملية الانتخابية مرة أخرى، هي مسألة التطبيع والمطامع الإسرائيلية للهيمنة على العراق. بعد العام 2003 والاحداث التي عقبت سقوط الصنم . اصبح العراق ارضا خصبة للعديد من الاجندات والحركات العالمية وفي مقدمتها الماسونية . فصار رجالها يمارسون مهامهم دون خوف او رقابة فتسنموا المناصب والوزارات وحكموا وعاثوا بالارض فسادا , ليكملوا مهمة افراغ البلد من كل محتوياته وثرواته الفكرية والعلمية والمالية . بالاضافة لما قامت به وحدات عسكرية من قوات المارينز والتي تعمل بأمرة الماسونية وتنفذ مخططاتها , وهي وحدات قتالية جميع عناصرها من اليهود تركزت اعمالهم في مناطق الفرات الاوسط وتحديدا في منطقة الكفل حيث تمكنوا من نقل اثار مقدسة لليهود . \\n</td>\n",
       "      <td>0.203773</td>\n",
       "    </tr>\n",
       "  </tbody>\n",
       "</table>\n",
       "</div>"
      ],
      "text/plain": [
       "                                                                                                                                                                                                                                                                                                                                                                                                                                                                                                                                                                                                                                                                                                                                                                                                                                                                                                                                                                                                                                                                                                                                                                                                                                                                                                                                                                                                                                                          text  \\\n",
       "106515                                                                                                               claim: The video claims that a certain  healthy diet can prevent from cancer. The diet must depend on vegetables and fruits.\\nIt stresses the importance of eating beetroot and its juice  which has many  benefits. Mixing vegetables and drinking their juice helps a, notes: يكتسب الشمندر لونه الرائع من أحد أنواع مضادات الأكسدة (Antioxidants) الهامة المتواجدة فيه والمدعوة بالبيتالينات، وهذا النوع من مضادات الأكسدة بشكل خاص قد يحمي الجسم من بعض أنواع الخلايا السرطانية. كما يعتقد الباحثون أن البيتالينات تعمل على الكشف في داخل الجسم عن كافة الخلايا غير المستقرة أو السرطانية لتدمرها. السرطان هو ثاني سبب رئيسي للوفاة في الولايات المتحدة، لكن التقديرات تشير إلى أنه يمكن الوقاية مما يصل إلى ثلث الحالات عن طريق اتباع نظام غذائي والتغذية وحدها. ما هي الوصفة؟ يوصي العديد من الخبراء بالأكل من خيرات الأرض. تشير عقود من البحث إلى أن أفضل نظام غذائي للوقاية من السرطان هو كل ما يتضمن النباتات. وهذا يعني الكثير من الفواكه والخضراوات والبقوليات، أو القليل من اللحوم أو غيرها من المنتجات الحيوانية.\\nقول اختصاصي النُّظم الغذائية في برنامج Mayo Clinic للحياة الصحية أنجي مراد، اختصاصية تغذية مسجلة ومرخصة: إنه على الرغم من أن الدراسات الجديدة قد احتلت العناوين الرئيسية، فإن الجزء الأكبر من البحث لا يزال يدعم تناول كميات أقل من اللحوم. وتقول: \"هناك الكثير من الأدلة للتحرك نحو نظام غذائي نباتي\".\\n   \n",
       "109396                                                                                                                                                                                                                                                                                                                                                                                                                                                                                                                                                                                                                                                                                                                                                                                                                                                claim: Claim:  the video says that Henry Kissinger has called for an end to Russia-Ukraine war to prevent a Russian-Chinese alliance as the world will be preoccupied with a Middle East upcoming war between Iran and Israel which will also involve Saudi Arabia , E, notes: ما جاء في  نقل الرجل لتوقعات وزير الخارجية الامريكي \\n   السابق هنري كيسنجر في لقاء اجرته معه صحيفة الصنداي تايم حيث اكد ان حرب بين اسرائيل وايران قادمة ولكن كيسنجر لم يحدد اين ستقع هذه الحرب  هل ستكون على الارض اللبنانية ام السورية ام الايرانية\\nالخبر صحيح وقد ترجم المتحدث في الفيدبو نعض مقاطع من اللقاء الصحفي.   \n",
       "113445                                                                                                                                                                                                                                                                                                         claim: Claim: The video claims that there are food supplements that are natural and healthy, and cures the body from illnesses. Such as Spirulina and Reishi Mushrooms, and DXN supplements which are very important for health., notes: \\nعلى الرغم من فوائد الفطر الريشي إلا أنه ذو أضرار خاصةً على الفئات الآتية:\\nالأفراد الذين يعانون من انخفاض ضغط الدم.\\nالأشخاص الذين يتناولون الأدوية من أجل العلاج من ارتفاع ضغط الدم، أو السكري، أو اضطرابات الجهاز المناعي.\\nكما أن استهلاكه لمدة تزيد عن ستة شهور قد تسبب رد فعل تحسسيّ لدى بعض الأشخاص، وينتج عن ذلك مجموعة من الأعراض من أبرزها ما يأتي:\\nجفاف في الفم والحلق و ممرات الأنف.\\nالشعور بالدوخة.\\nالمعاناة من الحكّة.\\nالإصابة بالطفح الجلديّ.\\nاما سبيرولينا فهي:\\nالسبيرولينا هي نوع من أنواع الطحالب لونها أخضر مائل للزرقة، وتنمو في المحيطات والبحيرات المالحة في المناخات شبه الاستوائية.\\nتعد السبيرولينا من الأغذية الخارقة بسبب غناها بالأصباغ النباتية، وقدرتها العالية على تنظيم عملية التمثيل الضوئي، ما جعلها أحد المكونات المشهورة في المكملات الغذائية.\\n \\nفيما يتعلق بالمكملات الغذائية من دكسن هناك تحذير من مؤسسة الغذاء والدواء الاردنية الرسمية بهذا الخصوص.\\n   \n",
       "113496                                                                                                                                                                                                                                                                                                                                                                                                                                claim: Claim: The video claims that Iron mixed with vitamin c and some herbs has a strong effect on the body. It provides  the body with the necessary health supplements., notes: \\nيُعدّ فيتامين ج: Vitamin C) أ\\nمن الفيتامينات الذائبة في الماء، ويعمل في الجسم كمُضادّ للأكسدة؛ حيث يحمي من الأضرار الناتجة عن الجُذور الحُرّة -وهي مُركّباتٌ تنتج عندما يتعرّض الجسم للإشعاعات أو دخان التبغ- وقد تُرتبط بزيادة خطر الإصابة بالعديد من الأمراض، ويحتاج الجسم هذا الفيتامين لصناعة الكولاجين، وغيرها من الفوائد، ومن الجدير بالذكر أنّ الجسم لا يُصنّع هذا الفيتامين، ولذلك فإنّه يحتاج لتناوله من مصادره الغذائيّة، فهو يتوفر في العديد من الخضار والفاكهة، أو يمكن تناوله كمكمل غذائي  على شكل حبوبٍ قابلة للمضغ أو كبسولات.0 seconds of 0 secondsVolume 0%   أما الحديد فهو من المعادن الموجودة في الجسم والتي يحتاجها للقيام بالعديد من الوظائف، فهو من مكونات الهيموغلوبين الذي يُساهم في نقل الأكسجين من الرئتين إلى باقي أجزاء الجسم، وقد ينجم عن عدم تناول كميات كافية من مصادر الحديد الإصابة بالأنيميا؛\\n   \n",
       "106030                                                                                                                                                                                                                                                                                                                                                                                                                                            claim: The video claims and promotes a face cream which contains natural and herbal ingredients that can whiten the face  and remove  black spots and treat Melasma.\\n, notes: \\nالكريم الذي يوصفه الفيديو ليس بالضرورة يعطي نتائج متوقعة لكنه غير ضار كونه مكون من أعشاب ومواد طبيعية .\\nالمواقع الطبية تنصح باستشارة الطبيب . علاج الكلف طبيا من طرق العلاج التي تلجأ إليها الكثير من النساء وتفضلها على العديد من العديد من الطرق الطبيعية الأخرى.\\nوذلك نظرا لأن الطرق الطبية في الغالب تؤتي نتائج أسرع بكثير من الطرق الطبيعية، وهناك العديد من الطرق الطبية التي يقوم\\nالأطباء باستخدامها للتخلص من الكلف\\nومن أنواع الغسول التي يمكنك الاعتماد عليها غسول الهيدروكينون والذي يتم تطبيقه على البقع الداكنة في البشرة بصورة مباشرة\\nويمتلك قدرة كبيرة على تفتيح البشرة والتخلص من الكلف بصورة نهائية.\\nكما يقوم الطبيب بوصف مجموعة من الكريمات التي تحتوي على الستيرويدات القشرية و التريتينوين\\nوالتي تعمل على التخلص من جميع البقع الموجودة في البشرة بصورة نهائية، ويعمل على إكساب البشرة لون موحد.    \n",
       "105500                                                                                                                                                                                                                                                                                                                                                                                                                                             claim: The video claims and promotes a face cream which contains natural and herbal ingredients that can whiten the face  and remove  black spots and treats Melasma., notes: الكريم الذي يوصفه الفيديو ليس بالضرورة يعطي نتائج متوقعة لكنه غير ضار كونه مكون من اعشاب ومواد طبيعية .\\nالمواقع الطبية تنصح باستشارة الطبيب .\\nعلاج الكلف طبيا من طرق العلاج التي تلجأ إليها الكثير من النساء وتفضلها على العديد من العديد من الطرق الطبيعية الأخرى.\\nوذلك نظرا لأن الطرق الطبية في الغالب تؤتي نتائج أسرع بكثير من الطرق الطبيعية، وهناك العديد من الطرق الطبية التي يقوم\\nالأطباء باستخدامها للتخلص من الكلف\\nومن أنواع الغسول التي يمكنك الاعتماد عليها غسول الهيدروكينون والذي يتم تطبيقه على البقع الداكنة في البشرة بصورة مباشرة\\nويمتلك قدرة كبيرة على تفتيح البشرة والتخلص من الكلف بصورة نهائية.\\nكما يقوم الطبيب بوصف مجموعة من الكريمات التي تحتوي على الستيرويدات القشرية و التريتينوين\\nوالتي تعمل على التخلص من جميع البقع الموجودة في البشرة بصورة نهائية، ويعمل على إكساب البشرة لون موحد.\\n   \n",
       "56387                   claim: , notes: Findings in English\\n-------------------------------------\\nThe video is true.\\nThe video is a matter of opinion.\\nIt is also Satire and Humor. According to Pew Research Center, Only about 2% of the global population lives in polygamous households, and in the vast majority of countries, that share is under 0.5%. Polygamy is banned throughout much of the world, and the United Nations Human Rights Committee, which has said that “polygamy violates the dignity of women,” called for it to “be definitely abolished wherever it continues to exist.” But there often are limits to government administration of marriages. In many countries, marriages are governed by religious or customary law, which means that oversight is in the hands of clerics or community leaders. Determination\\n---------------------------\\nNot Misinformation\\nIt is Opinion.Satire and Humor.\\n-----------------------------------\\nFindings in Arabic\\n-------------------------------------\\nالفيديو ممكن ان يكون صحيحا وهو مجرد راي  وهو ايضا للسخرية والتهكم . الجمع بين عدة نساء هي حالة نادرة تكون فقط في المجتمعات الضيقة الفقيرة  الضعيفة.\\nبحسب موقع اسلام ويب من عَلامَاتِ قِيَامِ السَّاعَةِ التي تَحَدَّثَ عَنْهَا سَيِّدُنَا رَسُولُ اللهِ صَلَّى اللهُ عَلَيهِ وعَلَى آلِهِ وصَحْبِهِ وسَلَّمَ، ذَهَابُ الرِّجَالِ، وَكَثْرَةُ النِّسَاءِ، بِحَيْثُ يَكُونُ لِكُلِّ خَمْسِينَ امْرَأَةً قَيِّمٌ وَاحِدٌ.   \n",
       "123936                                                                                                                                claim: \"Turnip is one of the most popular root vegetables with high nutritional value and rich in vitamins, minerals and powerful antioxidants. Turnip helps reduce urine retention.\", notes: \"الفيديو صحيح لأن اللفت له فوائد جمة للصحة .Not Misinformation\\n يساعد اللفت على التقليل من احتباس البول؛ \\n\\nكونه يحفّز سوائل المعدة. - يساعد على تنقية الجسم من السموم؛ ما يساعد على التخلص من الوزن الزائد والتقليل من الشعور بالجوع. - اللفت له دور في تعزيز عملية الأيض والتمثيل الغذائي بالجسم؛ ما يزيد من حرق السعرات الحرارية الزائدة، وهذا يزيد من النحافة وإنقاص الوزن الزائد\\nبالنسبة للناس الذين لديهم مشاكل في الغدة الدرقية المواقع العلمية تنصح بعدم تناول اللفت .\\n\\nاللفت ، تحتل هذه الخضروات الجذرية ذات اللون الأبيض مكانة ثابتة في كل مطبخ تقريبًا خلال هذا الوقت من العام ،تأتي هذه الخضروات محملة بالعديد من العناصر الغذائية الدقيقة الأساسية، واللفت غنى بالفيتامينات A و B و C و E و K والكالسيوم والحديد والصوديوم والبوتاسيوم وغيرها التي تساعد على تغذيتنا من الداخل خلال فصل الشتاء، وفقا لما نشره موقع \\\"food-ndtv\\\".\\nاللفت يقلل من مخاطر الإصابة بالسرطان وهو مفيد للعينين يحمي صحة العين ويخفض ضغط الدم ويقلل من مشاكل الأمعاء \\nكان معروفا لدى الرومان والاوروبيين  قبل 4000 الف سنة ونقله الاوروبيون الى امريكا . وكان يعطى طعاما للفقراء لكونه يحتوي على معظم الاحتياجات الغذائية .\\n\"   \n",
       "110092  claim: Claim: \\nClaim:  Who are the masonic movement, and what kind of relation binds them with Saddam Hussein and Muqtada Al--Sadr of Iraq. The video demonstrates political regimes that have been destroyed and disappeared, according to the Freemasonry orders and, notes: صدام حسين أول من تنبأ لخطرها وأول من حاربها إيران الخطر القادم من الشرق\\nيذكر أنه بحسب المادة 201 من قانون العقوبات العراقي يُعاقب بالإعدام كل من روج لـ\"مبادئ الصهيونية، بما في ذلك الماسونية، أو انتسب إلى أي من مؤسساتها، أو ساعدها ماديا أو أدبيا، أو عمل بأي كيفية كانت لتحقيق أغراضها\".\\nولا يقيم العراق أي علاقات مع إسرائيل، في وقت ترفض الحكومة وأغلبية القوى السياسية في البلاد التطبيع معها.\\nوأكد الصدر في تغريدة عبر حسابه الرسمي على \"تويتر\" أن أحد الأسباب الرئيسة التي دعته بزج \"التيار الصدري\" في العملية الانتخابية مرة أخرى، هي مسألة التطبيع والمطامع الإسرائيلية للهيمنة على العراق. بعد العام 2003 والاحداث التي عقبت سقوط الصنم . اصبح العراق ارضا خصبة للعديد من الاجندات والحركات العالمية وفي مقدمتها الماسونية . فصار رجالها يمارسون مهامهم دون خوف او رقابة فتسنموا المناصب والوزارات وحكموا وعاثوا بالارض فسادا , ليكملوا مهمة افراغ البلد من كل محتوياته وثرواته الفكرية والعلمية والمالية . بالاضافة لما قامت به وحدات عسكرية من قوات المارينز والتي تعمل بأمرة الماسونية وتنفذ مخططاتها , وهي وحدات قتالية جميع عناصرها من اليهود تركزت اعمالهم في مناطق الفرات الاوسط وتحديدا في منطقة الكفل حيث تمكنوا من نقل اثار مقدسة لليهود . \\n   \n",
       "110090   claim: Claim:  Who are the masonic movement, and what kind of relation that bind them with Saddam Hussein and Muqtada Al--Sadr of Iraq. The video demonstrates some political incidents and regimes that have been disappeared worldwide,  according to masonic orders, notes: صدام حسين أول من تنبأ لخطرها وأول من حاربها إيران الخطر القادم من الشرق\\nيذكر أنه بحسب المادة 201 من قانون العقوبات العراقي يُعاقب بالإعدام كل من روج لـ\"مبادئ الصهيونية، بما في ذلك الماسونية، أو انتسب إلى أي من مؤسساتها، أو ساعدها ماديا أو أدبيا، أو عمل بأي كيفية كانت لتحقيق أغراضها\".\\nولا يقيم العراق أي علاقات مع إسرائيل، في وقت ترفض الحكومة وأغلبية القوى السياسية في البلاد التطبيع معها.\\nوأكد الصدر في تغريدة عبر حسابه الرسمي على \"تويتر\" أن أحد الأسباب الرئيسة التي دعته بزج \"التيار الصدري\" في العملية الانتخابية مرة أخرى، هي مسألة التطبيع والمطامع الإسرائيلية للهيمنة على العراق. بعد العام 2003 والاحداث التي عقبت سقوط الصنم . اصبح العراق ارضا خصبة للعديد من الاجندات والحركات العالمية وفي مقدمتها الماسونية . فصار رجالها يمارسون مهامهم دون خوف او رقابة فتسنموا المناصب والوزارات وحكموا وعاثوا بالارض فسادا , ليكملوا مهمة افراغ البلد من كل محتوياته وثرواته الفكرية والعلمية والمالية . بالاضافة لما قامت به وحدات عسكرية من قوات المارينز والتي تعمل بأمرة الماسونية وتنفذ مخططاتها , وهي وحدات قتالية جميع عناصرها من اليهود تركزت اعمالهم في مناطق الفرات الاوسط وتحديدا في منطقة الكفل حيث تمكنوا من نقل اثار مقدسة لليهود . \\n   \n",
       "\n",
       "        similarity  \n",
       "106515    0.255338  \n",
       "109396    0.245030  \n",
       "113445    0.239793  \n",
       "113496    0.230646  \n",
       "106030    0.218455  \n",
       "105500    0.218397  \n",
       "56387     0.211028  \n",
       "123936    0.207513  \n",
       "110092    0.204488  \n",
       "110090    0.203773  "
      ]
     },
     "execution_count": 31,
     "metadata": {},
     "output_type": "execute_result"
    }
   ],
   "source": [
    "text = \"من ام الفعير يلعن ابوك لابو طيزر عرضك\"\n",
    "document_search(df, text, vec, tfidf_matrix)"
   ]
  },
  {
   "cell_type": "code",
   "execution_count": null,
   "metadata": {},
   "outputs": [],
   "source": []
  }
 ],
 "metadata": {
  "kernelspec": {
   "display_name": "Python 3.9.2 64-bit",
   "language": "python",
   "name": "python3"
  },
  "language_info": {
   "codemirror_mode": {
    "name": "ipython",
    "version": 3
   },
   "file_extension": ".py",
   "mimetype": "text/x-python",
   "name": "python",
   "nbconvert_exporter": "python",
   "pygments_lexer": "ipython3",
   "version": "3.9.2"
  },
  "orig_nbformat": 4,
  "vscode": {
   "interpreter": {
    "hash": "31f2aee4e71d21fbe5cf8b01ff0e069b9275f58929596ceb00d14d90e3e16cd6"
   }
  }
 },
 "nbformat": 4,
 "nbformat_minor": 2
}
