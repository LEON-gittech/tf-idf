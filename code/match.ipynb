{
 "cells": [
  {
   "cell_type": "code",
   "execution_count": 9,
   "metadata": {},
   "outputs": [],
   "source": [
    "# !hdfs dfs -get hdfs://harunava/user/leon.kepler/clm/data.json ./data.json"
   ]
  },
  {
   "cell_type": "code",
   "execution_count": 1,
   "metadata": {},
   "outputs": [],
   "source": [
    "import json\n",
    "with open(\"data.json\",\"r\") as f:\n",
    "    data = json.load(f)"
   ]
  },
  {
   "cell_type": "code",
   "execution_count": 2,
   "metadata": {},
   "outputs": [],
   "source": [
    "def format_record(record):\n",
    "    return f\"claim: {record['claim']}, notes: {record['notes']}\"\n",
    "   \n",
    "str_data = [format_record(record) for record in data]"
   ]
  },
  {
   "cell_type": "code",
   "execution_count": 3,
   "metadata": {},
   "outputs": [
    {
     "name": "stdout",
     "output_type": "stream",
     "text": [
      "claim: , notes: This is a satire. It may be offensive through linking china to covid, but it is not misinformation as it is humour. \n",
      "claim: , notes: The video describes the Alcea rugosa water extract preparation for the treatment of stomach ulcer (collect petals, cover with cold water, leave it overnight) as well as the treatment instructions (take one tablespoon before food for 10-15 days). \n",
      "Traditional herbal medicine can not treat stomach ulcers since it is a severe health problem requiring drug treatment (antibiotics in case ulcers were caused by the infection with bacteria Helicobacter pylori).\n",
      "\n",
      "claim: , notes: DESCRIPTION: the claim, made by candace owens, is that because black Americans commit more crime, that is why they are killed by the police. Her methodology is flawed.  “These quantities can differ enormously: When officers encounter many more white civilians (due to whites’ majority status, for example), the proportion of killings involving black civilians can be small, even if encounters with black civilians are more likely to end in shootings.” “Black women and men and American Indian and Alaska Native women and men are significantly more likely than white women and men to be killed by police. “\n",
      "Misinformation \n",
      "claim: , notes: This video is not misinformation as it is an opinion on current events.  The Tik Tok expresses an opinion on this news article about the online grooming of children by a casual school teacher. \n",
      " \n",
      "claim: , notes: Disposable masks harm the environment \n",
      "claim: , notes: DESCRIPTION: not English n/a\n",
      "claim: , notes: Hydrocephalus is a real medical condition caused by a build up fluid within the brain. There have been cases of children suffering with the condition, which can be fatal if not treated.  \n",
      "claim: , notes: The claim is that the Story County auditor explained how 729 voters sent their ballots to the wrong location.  What happened in Ames, Iowa, is that 729 voters got the wrong ballot. This story broke in October 2020, before Election Day.  They did not send their ballots to the wrong location.  Misinformation, factually inaccurate.  \n",
      "claim: , notes: The video includes footage of Larry Sinclair saying he did drugs with and performed oral sex on Barack Obama. Sinclair is known for being less than reliable, and he was represented at his press conference about Obama by an attorney whose law license had been suspended. After his press conference, Sinclair was arrested on charges of theft and forgery.  Ruling: misinfo, N/A \n",
      "claim: , notes: Video is in another language; not enough information to assess potential claims.\n"
     ]
    }
   ],
   "source": [
    "for i in range(10):\n",
    "    print(str_data[i])"
   ]
  },
  {
   "cell_type": "code",
   "execution_count": 4,
   "metadata": {},
   "outputs": [],
   "source": [
    "from TFIDF import TFIDF"
   ]
  },
  {
   "cell_type": "code",
   "execution_count": 5,
   "metadata": {},
   "outputs": [],
   "source": [
    "corpus = str_data"
   ]
  },
  {
   "cell_type": "code",
   "execution_count": 6,
   "metadata": {},
   "outputs": [],
   "source": [
    "obj = TFIDF(corpus,20)\n",
    "obj.preprocessing_text()"
   ]
  },
  {
   "cell_type": "code",
   "execution_count": 7,
   "metadata": {},
   "outputs": [],
   "source": [
    "tf = obj.tf()"
   ]
  },
  {
   "cell_type": "code",
   "execution_count": null,
   "metadata": {},
   "outputs": [],
   "source": [
    "df = obj.df(tf)"
   ]
  },
  {
   "cell_type": "code",
   "execution_count": null,
   "metadata": {},
   "outputs": [],
   "source": [
    "idf, idf_d = obj.idf(df)"
   ]
  },
  {
   "cell_type": "code",
   "execution_count": null,
   "metadata": {},
   "outputs": [],
   "source": [
    "tfidf = obj.tfidf(tf, idf)"
   ]
  },
  {
   "cell_type": "code",
   "execution_count": null,
   "metadata": {},
   "outputs": [],
   "source": [
    "import pandas as pd\n",
    "import numpy as np"
   ]
  },
  {
   "cell_type": "code",
   "execution_count": null,
   "metadata": {},
   "outputs": [],
   "source": [
    "df = pd.DataFrame(np.round(tfidf,2), columns= list(tf.columns))\n",
    "sorted_column_df = df.sort_index(axis=1)\n",
    "sorted_column_df"
   ]
  },
  {
   "cell_type": "code",
   "execution_count": null,
   "metadata": {},
   "outputs": [],
   "source": []
  }
 ],
 "metadata": {
  "kernelspec": {
   "display_name": "Python 3.9.2 64-bit",
   "language": "python",
   "name": "python3"
  },
  "language_info": {
   "codemirror_mode": {
    "name": "ipython",
    "version": 3
   },
   "file_extension": ".py",
   "mimetype": "text/x-python",
   "name": "python",
   "nbconvert_exporter": "python",
   "pygments_lexer": "ipython3",
   "version": "3.9.2"
  },
  "orig_nbformat": 4,
  "vscode": {
   "interpreter": {
    "hash": "31f2aee4e71d21fbe5cf8b01ff0e069b9275f58929596ceb00d14d90e3e16cd6"
   }
  }
 },
 "nbformat": 4,
 "nbformat_minor": 2
}
