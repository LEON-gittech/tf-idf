{
 "cells": [
  {
   "cell_type": "code",
   "execution_count": 9,
   "metadata": {},
   "outputs": [],
   "source": [
    "# !hdfs dfs -get hdfs://harunava/user/leon.kepler/clm/data.json ./data.json"
   ]
  },
  {
   "cell_type": "code",
   "execution_count": 1,
   "metadata": {},
   "outputs": [],
   "source": [
    "import json\n",
    "with open(\"data.json\",\"r\") as f:\n",
    "    data = json.load(f)"
   ]
  },
  {
   "cell_type": "code",
   "execution_count": 2,
   "metadata": {},
   "outputs": [],
   "source": [
    "def format_record(record):\n",
    "    return f\"claim: {record['claim']}, notes: {record['notes']}\"\n",
    "   \n",
    "str_data = [format_record(record) for record in data]"
   ]
  },
  {
   "cell_type": "code",
   "execution_count": 3,
   "metadata": {},
   "outputs": [
    {
     "name": "stdout",
     "output_type": "stream",
     "text": [
      "claim: , notes: This is a satire. It may be offensive through linking china to covid, but it is not misinformation as it is humour. \n",
      "claim: , notes: The video describes the Alcea rugosa water extract preparation for the treatment of stomach ulcer (collect petals, cover with cold water, leave it overnight) as well as the treatment instructions (take one tablespoon before food for 10-15 days). \n",
      "Traditional herbal medicine can not treat stomach ulcers since it is a severe health problem requiring drug treatment (antibiotics in case ulcers were caused by the infection with bacteria Helicobacter pylori).\n",
      "\n",
      "claim: , notes: DESCRIPTION: the claim, made by candace owens, is that because black Americans commit more crime, that is why they are killed by the police. Her methodology is flawed.  “These quantities can differ enormously: When officers encounter many more white civilians (due to whites’ majority status, for example), the proportion of killings involving black civilians can be small, even if encounters with black civilians are more likely to end in shootings.” “Black women and men and American Indian and Alaska Native women and men are significantly more likely than white women and men to be killed by police. “\n",
      "Misinformation \n",
      "claim: , notes: This video is not misinformation as it is an opinion on current events.  The Tik Tok expresses an opinion on this news article about the online grooming of children by a casual school teacher. \n",
      " \n",
      "claim: , notes: Disposable masks harm the environment \n",
      "claim: , notes: DESCRIPTION: not English n/a\n",
      "claim: , notes: Hydrocephalus is a real medical condition caused by a build up fluid within the brain. There have been cases of children suffering with the condition, which can be fatal if not treated.  \n",
      "claim: , notes: The claim is that the Story County auditor explained how 729 voters sent their ballots to the wrong location.  What happened in Ames, Iowa, is that 729 voters got the wrong ballot. This story broke in October 2020, before Election Day.  They did not send their ballots to the wrong location.  Misinformation, factually inaccurate.  \n",
      "claim: , notes: The video includes footage of Larry Sinclair saying he did drugs with and performed oral sex on Barack Obama. Sinclair is known for being less than reliable, and he was represented at his press conference about Obama by an attorney whose law license had been suspended. After his press conference, Sinclair was arrested on charges of theft and forgery.  Ruling: misinfo, N/A \n",
      "claim: , notes: Video is in another language; not enough information to assess potential claims.\n"
     ]
    }
   ],
   "source": [
    "for i in range(10):\n",
    "    print(str_data[i])"
   ]
  },
  {
   "cell_type": "code",
   "execution_count": 2,
   "metadata": {},
   "outputs": [],
   "source": [
    "import os\n",
    "os.environ[\"CUDA_VISIBLE_DEVICES\"]='1'"
   ]
  },
  {
   "cell_type": "code",
   "execution_count": 3,
   "metadata": {},
   "outputs": [],
   "source": [
    "import cudf\n",
    "from cudf import Series\n",
    "from cudf import DataFrame\n",
    "\n",
    "from cuml.feature_extraction.text import TfidfVectorizer"
   ]
  },
  {
   "cell_type": "code",
   "execution_count": 4,
   "metadata": {},
   "outputs": [],
   "source": [
    "import numpy as np\n",
    "import pandas as pd\n",
    "import warnings\n",
    "\n",
    "\n",
    "pd.set_option('display.max_colwidth', 1000000)\n",
    "warnings.filterwarnings('ignore')"
   ]
  },
  {
   "cell_type": "code",
   "execution_count": 5,
   "metadata": {},
   "outputs": [],
   "source": [
    "def join_df(path, df_lib=cudf):\n",
    "    data = df_lib.DataFrame()\n",
    "    temp = df_lib.read_csv(path)\n",
    "    # temp = temp[temp.lang=='en']\n",
    "    data = df_lib.concat([data,temp])\n",
    "    # for file in os.listdir(path):\n",
    "    #     print(f\"In path : {path}{file}\")\n",
    "    #     temp = df_lib.read_csv(path+file)\n",
    "    #     temp = temp[temp.lang=='en']\n",
    "    #     data = df_lib.concat([data,temp])\n",
    "    return data"
   ]
  },
  {
   "cell_type": "code",
   "execution_count": 6,
   "metadata": {},
   "outputs": [
    {
     "data": {
      "text/plain": [
       "176722"
      ]
     },
     "execution_count": 6,
     "metadata": {},
     "output_type": "execute_result"
    }
   ],
   "source": [
    "df = join_df('/opt/tiger/workspace/LLM/data.csv')\n",
    "tweets = Series(df['text'])\n",
    "len(tweets)"
   ]
  },
  {
   "cell_type": "code",
   "execution_count": 7,
   "metadata": {},
   "outputs": [
    {
     "data": {
      "text/plain": [
       "(176722, 288685)"
      ]
     },
     "execution_count": 7,
     "metadata": {},
     "output_type": "execute_result"
    }
   ],
   "source": [
    "vec = TfidfVectorizer(stop_words='english')\n",
    "\n",
    "tfidf_matrix = vec.fit_transform(tweets)\n",
    "tfidf_matrix.shape"
   ]
  },
  {
   "cell_type": "code",
   "execution_count": 8,
   "metadata": {},
   "outputs": [],
   "source": [
    "from cuml.common.sparsefuncs import csr_row_normalize_l2\n",
    "\n",
    "\n",
    "def efficient_csr_cosine_similarity(query, tfidf_matrix, matrix_normalized=False):\n",
    "    query = csr_row_normalize_l2(query, inplace=False)\n",
    "    if not matrix_normalized:\n",
    "        tfidf_matrix = csr_row_normalize_l2(tfidf_matrix, inplace=False)\n",
    "    \n",
    "    return tfidf_matrix.dot(query.T)\n",
    "\n",
    "\n",
    "def document_search(text_df, query, vectorizer, tfidf_matrix, top_n=10):\n",
    "    query_vec = vectorizer.transform(Series([query]))\n",
    "    similarities = efficient_csr_cosine_similarity(query_vec, tfidf_matrix, matrix_normalized=True)\n",
    "    similarities = similarities.todense().reshape(-1)\n",
    "    best_idx = similarities.argsort()[-top_n:][::-1]\n",
    "    \n",
    "    pp = cudf.DataFrame({\n",
    "        'text': text_df['text'].iloc[best_idx],\n",
    "        'similarity': similarities[best_idx]\n",
    "    })\n",
    "    return pp"
   ]
  },
  {
   "cell_type": "code",
   "execution_count": 17,
   "metadata": {},
   "outputs": [
    {
     "data": {
      "text/html": [
       "<div>\n",
       "<style scoped>\n",
       "    .dataframe tbody tr th:only-of-type {\n",
       "        vertical-align: middle;\n",
       "    }\n",
       "\n",
       "    .dataframe tbody tr th {\n",
       "        vertical-align: top;\n",
       "    }\n",
       "\n",
       "    .dataframe thead th {\n",
       "        text-align: right;\n",
       "    }\n",
       "</style>\n",
       "<table border=\"1\" class=\"dataframe\">\n",
       "  <thead>\n",
       "    <tr style=\"text-align: right;\">\n",
       "      <th></th>\n",
       "      <th>text</th>\n",
       "      <th>similarity</th>\n",
       "    </tr>\n",
       "  </thead>\n",
       "  <tbody>\n",
       "    <tr>\n",
       "      <th>174533</th>\n",
       "      <td>claim: \"Israel was founded in 1948 during the Nakba, when Zionist terrorists invaded 500 Palestinian villages where they killed and raped Palestinians as well as took their lands. \", notes: \"Israel was founded after an event Palestinians refer to as the Nakba. During the Nakba, Zionist militias launched attacks in hundreds of Palestinian villages. There are several reports of Zionist militias killing and raping Palestinians. Thousands of Palestinians were forced to leave their homes. \"</td>\n",
       "      <td>0.207645</td>\n",
       "    </tr>\n",
       "    <tr>\n",
       "      <th>169866</th>\n",
       "      <td>claim: \"Israel captured civilian men who they claimed were terrorists and stripped them down to their underwear in the streets. One of the men captured was a journalist named Diaa Al-Khalout, who was arrested at gunpoint and forced to leave his disabled daughter, notes: \"Journalist Diaa-Al Khalout was arrested at gunpoint by Israeli forces and forced to leave his disabled daughter. He was one of the hundred of Palestinian men who were stripped to their underwear and made to lean on a street in Northern Gaza. \"</td>\n",
       "      <td>0.181340</td>\n",
       "    </tr>\n",
       "    <tr>\n",
       "      <th>85144</th>\n",
       "      <td>claim: , notes: This clip contains inflammatory language that implies Ukrainian armed forces shelled a peaceful village and did not allow inhabitants to leave. This is a report on Russian state TV channel Russia-24, which is government owned and a known producer of misinformation. However, because the specific village in question is small and now in Russian-held territory, there does not appear to be independent information that would allow us to verify the legitimacy of these claims at the current time. As additional information is available the classification of this video may change.</td>\n",
       "      <td>0.178268</td>\n",
       "    </tr>\n",
       "    <tr>\n",
       "      <th>51194</th>\n",
       "      <td>claim: , notes: This video talks about the current situation in Israel and Palestine, where forced evictions of Palestinians have taken place. Reports of this are true. Some of the first hand accounts cannot be fact checked as events are ongoing.</td>\n",
       "      <td>0.167036</td>\n",
       "    </tr>\n",
       "    <tr>\n",
       "      <th>57994</th>\n",
       "      <td>claim: , notes: This video suggests that Myanmar junta forces launched airstrikes on a village in Ye-U township, Sagaing on December 20, 2021. Based on local media reports, this is not misinformation. The Burmese-language post translates in English as: “No media has reported about Ye-U township. Terrorist military council fired airstrikes on Yemyat village in Yae-U Township and set the whole village on fire. Villagers got wounded.” RFA reported about the incident that there were junta’s airstrikes in Yemyat village around 1PM on December 20. Some houses in villages were burned due to air attack, the report said. Junta controlled state media also issued a statement saying the military forces attacked “KIA, NLD, PDF terrorist” in the village. AFP was not able to independently confirm the damage in the village.\\n</td>\n",
       "      <td>0.160251</td>\n",
       "    </tr>\n",
       "    <tr>\n",
       "      <th>652</th>\n",
       "      <td>claim: , notes: Claim: In Palestine, \"they\" are abducting and raping women.  There have been many human rights abuses in Palestine, including violence against women and girls. Without knowing what the \"they\" refers to, it's hard to check this.</td>\n",
       "      <td>0.159727</td>\n",
       "    </tr>\n",
       "    <tr>\n",
       "      <th>82140</th>\n",
       "      <td>claim: , notes: opinion, Israel Palestine</td>\n",
       "      <td>0.156724</td>\n",
       "    </tr>\n",
       "    <tr>\n",
       "      <th>81107</th>\n",
       "      <td>claim: , notes: opinion, Israel/Palestine</td>\n",
       "      <td>0.156724</td>\n",
       "    </tr>\n",
       "    <tr>\n",
       "      <th>97279</th>\n",
       "      <td>claim: Russians took 40 villages in east Ukraine., notes: According to a report by Reuters, Russian forces have captured 42 villages in the eastern Donetsk region but Ukrainian officials say that they might take them back.  This claim is unconfirmed, more information over this topic is yet to be revealed.</td>\n",
       "      <td>0.156637</td>\n",
       "    </tr>\n",
       "    <tr>\n",
       "      <th>1974</th>\n",
       "      <td>claim: , notes: In this video, a man makes claims that the Trump supporters on Jan. 6 were peaceful.  PolitiFact rated a claim that protests were peaceful Pants on Fire! ​​ Misinformation, factually inaccurate.  \\n</td>\n",
       "      <td>0.154043</td>\n",
       "    </tr>\n",
       "  </tbody>\n",
       "</table>\n",
       "</div>"
      ],
      "text/plain": [
       "                                                                                                                                                                                                                                                                                                                                                                                                                                                                                                                                                                                                                                                                                                                                                                                                                                                         text  \\\n",
       "174533                                                                                                                                                                                                                                                                                                                                             claim: \"Israel was founded in 1948 during the Nakba, when Zionist terrorists invaded 500 Palestinian villages where they killed and raped Palestinians as well as took their lands. \", notes: \"Israel was founded after an event Palestinians refer to as the Nakba. During the Nakba, Zionist militias launched attacks in hundreds of Palestinian villages. There are several reports of Zionist militias killing and raping Palestinians. Thousands of Palestinians were forced to leave their homes. \"   \n",
       "169866                                                                                                                                                                                                                                                                                                                    claim: \"Israel captured civilian men who they claimed were terrorists and stripped them down to their underwear in the streets. One of the men captured was a journalist named Diaa Al-Khalout, who was arrested at gunpoint and forced to leave his disabled daughter, notes: \"Journalist Diaa-Al Khalout was arrested at gunpoint by Israeli forces and forced to leave his disabled daughter. He was one of the hundred of Palestinian men who were stripped to their underwear and made to lean on a street in Northern Gaza. \"   \n",
       "85144                                                                                                                                                                                                                                       claim: , notes: This clip contains inflammatory language that implies Ukrainian armed forces shelled a peaceful village and did not allow inhabitants to leave. This is a report on Russian state TV channel Russia-24, which is government owned and a known producer of misinformation. However, because the specific village in question is small and now in Russian-held territory, there does not appear to be independent information that would allow us to verify the legitimacy of these claims at the current time. As additional information is available the classification of this video may change.   \n",
       "51194                                                                                                                                                                                                                                                                                                                                                                                                                                                                                                                                                                                                 claim: , notes: This video talks about the current situation in Israel and Palestine, where forced evictions of Palestinians have taken place. Reports of this are true. Some of the first hand accounts cannot be fact checked as events are ongoing.    \n",
       "57994   claim: , notes: This video suggests that Myanmar junta forces launched airstrikes on a village in Ye-U township, Sagaing on December 20, 2021. Based on local media reports, this is not misinformation. The Burmese-language post translates in English as: “No media has reported about Ye-U township. Terrorist military council fired airstrikes on Yemyat village in Yae-U Township and set the whole village on fire. Villagers got wounded.” RFA reported about the incident that there were junta’s airstrikes in Yemyat village around 1PM on December 20. Some houses in villages were burned due to air attack, the report said. Junta controlled state media also issued a statement saying the military forces attacked “KIA, NLD, PDF terrorist” in the village. AFP was not able to independently confirm the damage in the village.\\n   \n",
       "652                                                                                                                                                                                                                                                                                                                                                                                                                                                                                                                                                                                                     claim: , notes: Claim: In Palestine, \"they\" are abducting and raping women.  There have been many human rights abuses in Palestine, including violence against women and girls. Without knowing what the \"they\" refers to, it's hard to check this.     \n",
       "82140                                                                                                                                                                                                                                                                                                                                                                                                                                                                                                                                                                                                                                                                                                                                                                                                               claim: , notes: opinion, Israel Palestine   \n",
       "81107                                                                                                                                                                                                                                                                                                                                                                                                                                                                                                                                                                                                                                                                                                                                                                                                               claim: , notes: opinion, Israel/Palestine   \n",
       "97279                                                                                                                                                                                                                                                                                                                                                                                                                                                                                                                                      claim: Russians took 40 villages in east Ukraine., notes: According to a report by Reuters, Russian forces have captured 42 villages in the eastern Donetsk region but Ukrainian officials say that they might take them back.  This claim is unconfirmed, more information over this topic is yet to be revealed.   \n",
       "1974                                                                                                                                                                                                                                                                                                                                                                                                                                                                                                                                                                                                                                   claim: , notes: In this video, a man makes claims that the Trump supporters on Jan. 6 were peaceful.  PolitiFact rated a claim that protests were peaceful Pants on Fire! ​​ Misinformation, factually inaccurate.  \\n   \n",
       "\n",
       "        similarity  \n",
       "174533    0.207645  \n",
       "169866    0.181340  \n",
       "85144     0.178268  \n",
       "51194     0.167036  \n",
       "57994     0.160251  \n",
       "652       0.159727  \n",
       "82140     0.156724  \n",
       "81107     0.156724  \n",
       "97279     0.156637  \n",
       "1974      0.154043  "
      ]
     },
     "execution_count": 17,
     "metadata": {},
     "output_type": "execute_result"
    }
   ],
   "source": [
    "text = \"enter their peaceful village and slaughtered women children and the elderly and they did this in forty three different villages in palestine and forced the palestinians to leave the land at gunpoint the real culprit is britain\"\n",
    "document_search(df, text, vec, tfidf_matrix)"
   ]
  },
  {
   "cell_type": "code",
   "execution_count": null,
   "metadata": {},
   "outputs": [],
   "source": []
  }
 ],
 "metadata": {
  "kernelspec": {
   "display_name": "Python 3.9.2 64-bit",
   "language": "python",
   "name": "python3"
  },
  "language_info": {
   "codemirror_mode": {
    "name": "ipython",
    "version": 3
   },
   "file_extension": ".py",
   "mimetype": "text/x-python",
   "name": "python",
   "nbconvert_exporter": "python",
   "pygments_lexer": "ipython3",
   "version": "3.9.2"
  },
  "orig_nbformat": 4,
  "vscode": {
   "interpreter": {
    "hash": "31f2aee4e71d21fbe5cf8b01ff0e069b9275f58929596ceb00d14d90e3e16cd6"
   }
  }
 },
 "nbformat": 4,
 "nbformat_minor": 2
}
