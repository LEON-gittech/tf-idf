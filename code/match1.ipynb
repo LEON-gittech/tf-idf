{
 "cells": [
  {
   "cell_type": "code",
   "execution_count": 1,
   "metadata": {},
   "outputs": [],
   "source": [
    "import json\n",
    "with open(\"data.json\",\"r\") as f:\n",
    "    data = json.load(f)"
   ]
  },
  {
   "cell_type": "code",
   "execution_count": 2,
   "metadata": {},
   "outputs": [],
   "source": [
    "def format_record(record):\n",
    "    return f\"claim: {record['claim']}, notes: {record['notes']}\"\n",
    "   \n",
    "str_data = [format_record(record) for record in data]\n",
    "corpus = str_data"
   ]
  },
  {
   "cell_type": "code",
   "execution_count": 9,
   "metadata": {},
   "outputs": [],
   "source": [
    "from nltk.corpus import stopwords\n",
    "from nltk.stem import WordNetLemmatizer\n",
    "from sklearn.feature_extraction.text import TfidfVectorizer\n",
    "import numpy as np\n",
    "def get_similar_texts(text, corpus, n=5):\n",
    "\n",
    "  # 预处理\n",
    "  stop_words = set(stopwords.words('english'))\n",
    "  lemmatizer = WordNetLemmatizer()\n",
    "\n",
    "  def preprocess_text(text):\n",
    "    words = text.split()\n",
    "    words = [word.lower() for word in words if word not in stop_words]\n",
    "    words = [lemmatizer.lemmatize(word) for word in words]\n",
    "    return ' '.join(words)\n",
    "\n",
    "  preprocessed_text = preprocess_text(text)\n",
    "  preprocessed_corpus = [preprocess_text(doc) for doc in corpus]\n",
    "\n",
    "  # 计算文本之间的相似度\n",
    "  vectorizer = TfidfVectorizer()\n",
    "  tfidf_matrix = vectorizer.fit_transform([preprocessed_text] + preprocessed_corpus)\n",
    "  cosine_similarities = tfidf_matrix[0].dot(tfidf_matrix[1:].T).toarray()\n",
    "\n",
    "  # 找到相似度最高的五个文本\n",
    "  top_n_indices = np.argsort(cosine_similarities)[-n:][::-1]\n",
    "  top_n_indices = top_n_indices.astype(int)\n",
    "  return top_n_indices\n",
    "  # return [corpus[i] for i in top_n_indices]\n"
   ]
  },
  {
   "cell_type": "code",
   "execution_count": 10,
   "metadata": {},
   "outputs": [],
   "source": [
    "text = \"country so if you attack lebanon automatically you are going to drag in syria when you drag in syria uh then i'm going to your point to meet about iran if you drag in syria then the order process in the region will be activated i think getting iran involved in it will be the last will be the will be the beginning of the end\"\n",
    "result = get_similar_texts(text,corpus)"
   ]
  },
  {
   "cell_type": "code",
   "execution_count": null,
   "metadata": {},
   "outputs": [],
   "source": []
  },
  {
   "cell_type": "code",
   "execution_count": 15,
   "metadata": {},
   "outputs": [
    {
     "name": "stdout",
     "output_type": "stream",
     "text": [
      "[114756 114746 114747 ... 171191 128188  14093]\n",
      "176722\n"
     ]
    }
   ],
   "source": [
    "print(result[0])\n",
    "print(len(result[0]))"
   ]
  },
  {
   "cell_type": "code",
   "execution_count": 16,
   "metadata": {},
   "outputs": [
    {
     "name": "stdout",
     "output_type": "stream",
     "text": [
      "claim: Jabuticaba improves digestion, fights excess cholesterol, prevents premature aging, prematures cancer and Alzheimer's, protects the heart, etc. , notes: A jabuticaba possui componentes, como fibras e compostos fenólicos, que trazem benefícios como melhor digestão (fibras) e potencialmente previnem doenças como o câncer e o Alzheimer's (fenólicos). Isso leva pessoas no TikTok e em jornais a falarem que o consumo da jabuticaba possui estes benefícios. Porém, faltam estudos mostrando que consumir jabuticaba realmente diminuí o risco de câncer/Alzheimer's e melhora a digestão. Portanto, a jabuticaba possui substancias que, potencialmente, possuem benefícios para a saúde humana, mas faltam estudos e testes clínicos em humanos mostrando que consumir jabuticabas --> prevenir câncer/melhor digestão/etc. \n",
      "claim: Advance of the radical left threatens Latin America, notes: Comentário sobre avanço da esquerda em países como Argentina, Chile e Colômbia. Em tom de alerta, diz que Brasil também corre o risco de integrar esse bloco radical sob influência da China comunista, o que poderia ser a uma ameaça aos EUA e ao Ocidente.\n",
      "claim: Election polls are fake like Lula's campaign photos\n",
      ", notes: A autora critica a foto publicada pelo PT em que há distorções no número de pessoas que acompanharam o evento de Lula na Bahia, o que caracteriza opinião. Mas, a autora também afirma que assim com as fotos, as pesquisas são fraudadas, sem explicar o que a levou a chegar a essa conclusão. Tal afirmação se caracteriza como desinformação.\n"
     ]
    }
   ],
   "source": [
    "print(corpus[114756])\n",
    "print(corpus[114746])\n",
    "print(corpus[114747])"
   ]
  },
  {
   "cell_type": "code",
   "execution_count": null,
   "metadata": {},
   "outputs": [],
   "source": []
  }
 ],
 "metadata": {
  "kernelspec": {
   "display_name": "Python 3.9.2 64-bit",
   "language": "python",
   "name": "python3"
  },
  "language_info": {
   "codemirror_mode": {
    "name": "ipython",
    "version": 3
   },
   "file_extension": ".py",
   "mimetype": "text/x-python",
   "name": "python",
   "nbconvert_exporter": "python",
   "pygments_lexer": "ipython3",
   "version": "3.9.2"
  },
  "orig_nbformat": 4,
  "vscode": {
   "interpreter": {
    "hash": "31f2aee4e71d21fbe5cf8b01ff0e069b9275f58929596ceb00d14d90e3e16cd6"
   }
  }
 },
 "nbformat": 4,
 "nbformat_minor": 2
}
